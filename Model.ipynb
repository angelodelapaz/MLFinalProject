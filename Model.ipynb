{
 "cells": [
  {
   "cell_type": "markdown",
   "metadata": {},
   "source": [
    "## Imports"
   ]
  },
  {
   "cell_type": "code",
   "execution_count": 1,
   "metadata": {},
   "outputs": [
    {
     "name": "stdout",
     "output_type": "stream",
     "text": [
      "Collecting nibabel\n",
      "  Downloading nibabel-5.2.1-py3-none-any.whl.metadata (8.8 kB)\n",
      "Requirement already satisfied: numpy>=1.20 in c:\\users\\gelo\\appdata\\local\\programs\\python\\python312\\lib\\site-packages (from nibabel) (1.26.2)\n",
      "Requirement already satisfied: packaging>=17 in c:\\users\\gelo\\appdata\\roaming\\python\\python312\\site-packages (from nibabel) (23.2)\n",
      "Downloading nibabel-5.2.1-py3-none-any.whl (3.3 MB)\n",
      "   ---------------------------------------- 0.0/3.3 MB ? eta -:--:--\n",
      "   ---------------------------------------- 0.0/3.3 MB ? eta -:--:--\n",
      "   ---------------------------------------- 0.0/3.3 MB 330.3 kB/s eta 0:00:10\n",
      "   ---------------------------------------- 0.0/3.3 MB 262.6 kB/s eta 0:00:13\n",
      "   ---------------------------------------- 0.0/3.3 MB 196.9 kB/s eta 0:00:17\n",
      "    --------------------------------------- 0.1/3.3 MB 252.2 kB/s eta 0:00:13\n",
      "   - -------------------------------------- 0.1/3.3 MB 350.1 kB/s eta 0:00:10\n",
      "   - -------------------------------------- 0.1/3.3 MB 400.9 kB/s eta 0:00:08\n",
      "   - -------------------------------------- 0.1/3.3 MB 426.7 kB/s eta 0:00:08\n",
      "   -- ------------------------------------- 0.2/3.3 MB 491.5 kB/s eta 0:00:07\n",
      "   -- ------------------------------------- 0.2/3.3 MB 515.5 kB/s eta 0:00:06\n",
      "   ---- ----------------------------------- 0.3/3.3 MB 677.0 kB/s eta 0:00:05\n",
      "   ----- ---------------------------------- 0.4/3.3 MB 771.4 kB/s eta 0:00:04\n",
      "   ----- ---------------------------------- 0.5/3.3 MB 797.2 kB/s eta 0:00:04\n",
      "   ------- -------------------------------- 0.6/3.3 MB 917.5 kB/s eta 0:00:03\n",
      "   -------- ------------------------------- 0.7/3.3 MB 976.7 kB/s eta 0:00:03\n",
      "   ----------- ---------------------------- 1.0/3.3 MB 1.3 MB/s eta 0:00:02\n",
      "   ------------- -------------------------- 1.1/3.3 MB 1.4 MB/s eta 0:00:02\n",
      "   ------------- -------------------------- 1.1/3.3 MB 1.4 MB/s eta 0:00:02\n",
      "   ---------------- ----------------------- 1.3/3.3 MB 1.6 MB/s eta 0:00:02\n",
      "   --------------------- ------------------ 1.8/3.3 MB 2.0 MB/s eta 0:00:01\n",
      "   ------------------------- -------------- 2.1/3.3 MB 2.2 MB/s eta 0:00:01\n",
      "   ---------------------------- ----------- 2.3/3.3 MB 2.3 MB/s eta 0:00:01\n",
      "   ------------------------------ --------- 2.5/3.3 MB 2.4 MB/s eta 0:00:01\n",
      "   ----------------------------------- ---- 2.9/3.3 MB 2.7 MB/s eta 0:00:01\n",
      "   ---------------------------------------- 3.3/3.3 MB 2.9 MB/s eta 0:00:00\n",
      "Installing collected packages: nibabel\n",
      "Successfully installed nibabel-5.2.1\n"
     ]
    },
    {
     "name": "stderr",
     "output_type": "stream",
     "text": [
      "c:\\Users\\Gelo\\AppData\\Local\\Programs\\Python\\Python312\\Lib\\site-packages\\tqdm\\auto.py:21: TqdmWarning: IProgress not found. Please update jupyter and ipywidgets. See https://ipywidgets.readthedocs.io/en/stable/user_install.html\n",
      "  from .autonotebook import tqdm as notebook_tqdm\n"
     ]
    }
   ],
   "source": [
    "#Commonted out the below lines as the packages are already installed in the environment\n",
    "\n",
    "#!pip install timm\n",
    "#!pip install nibabel\n",
    "\n",
    "\n",
    "import nibabel as nib\n",
    "import timm\n",
    "import numpy as np\n",
    "import matplotlib.pyplot as plt\n",
    "import pandas as pd\n",
    "\n"
   ]
  }
 ],
 "metadata": {
  "kernelspec": {
   "display_name": "Python 3",
   "language": "python",
   "name": "python3"
  },
  "language_info": {
   "codemirror_mode": {
    "name": "ipython",
    "version": 3
   },
   "file_extension": ".py",
   "mimetype": "text/x-python",
   "name": "python",
   "nbconvert_exporter": "python",
   "pygments_lexer": "ipython3",
   "version": "3.12.1"
  }
 },
 "nbformat": 4,
 "nbformat_minor": 2
}
